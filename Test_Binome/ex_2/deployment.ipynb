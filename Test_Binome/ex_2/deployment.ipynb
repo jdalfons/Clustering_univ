{
 "cells": [
  {
   "cell_type": "code",
   "execution_count": 1,
   "metadata": {},
   "outputs": [
    {
     "name": "stderr",
     "output_type": "stream",
     "text": [
      "/var/folders/fj/25hghm0n7n33b98vlpmy81dm0000gn/T/ipykernel_12609/2035458946.py:1: DeprecationWarning: \n",
      "Pyarrow will become a required dependency of pandas in the next major release of pandas (pandas 3.0),\n",
      "(to allow more performant data types, such as the Arrow string type, and better interoperability with other libraries)\n",
      "but was not found to be installed on your system.\n",
      "If this would cause problems for you,\n",
      "please provide us feedback at https://github.com/pandas-dev/pandas/issues/54466\n",
      "        \n",
      "  import pandas as pd\n"
     ]
    }
   ],
   "source": [
    "import pandas as pd\n"
   ]
  },
  {
   "cell_type": "code",
   "execution_count": 2,
   "metadata": {},
   "outputs": [
    {
     "name": "stdout",
     "output_type": "stream",
     "text": [
      "<class 'pandas.core.frame.DataFrame'>\n",
      "RangeIndex: 100 entries, 0 to 99\n",
      "Data columns (total 6 columns):\n",
      " #   Column      Non-Null Count  Dtype \n",
      "---  ------      --------------  ----- \n",
      " 0   budget      100 non-null    object\n",
      " 1   physician   100 non-null    object\n",
      " 2   salvador    100 non-null    object\n",
      " 3   nicaraguan  100 non-null    object\n",
      " 4   missile     100 non-null    object\n",
      " 5   education   100 non-null    object\n",
      "dtypes: object(6)\n",
      "memory usage: 4.8+ KB\n"
     ]
    }
   ],
   "source": [
    "df = pd.read_excel('vote_clustering_deployment.xlsx')\n",
    "df.info()\n"
   ]
  },
  {
   "cell_type": "code",
   "execution_count": 3,
   "metadata": {},
   "outputs": [],
   "source": [
    "import pickle\n",
    "\n",
    "f = open('workflow.sav', 'rb')\n",
    "\n",
    "# Load the model\n",
    "model = pickle.load(f)\n",
    "\n",
    "f.close()"
   ]
  },
  {
   "cell_type": "code",
   "execution_count": 6,
   "metadata": {},
   "outputs": [
    {
     "name": "stdout",
     "output_type": "stream",
     "text": [
      "{'acm': MCA(n_components=2,\n",
      "    var_labels=Index(['budget', 'physician', 'salvador', 'nicaraguan', 'missile',\n",
      "       'education'],\n",
      "      dtype='object')), 'km': KMeans(n_clusters=3, random_state=0)}\n"
     ]
    }
   ],
   "source": [
    "print(model.named_steps)"
   ]
  },
  {
   "cell_type": "code",
   "execution_count": 7,
   "metadata": {},
   "outputs": [
    {
     "name": "stdout",
     "output_type": "stream",
     "text": [
      "[1 0 0 2 1 1 1 1 0 1 1 0 1 0 0 1 1 0 1 0 0 0 0 0 1 0 1 1 1 0 0 1 0 0 1 1 0\n",
      " 0 0 1 1 0 0 1 1 0 1 1 0 1 0 1 0 1 0 0 0 1 0 0 1 1 1 0 1 1 1 0 1 1 0 1 0 1\n",
      " 1 1 0 0 0 1 0 0 0 0 0 1 0 0 1 2 0 0 1 1 1 1 1 1 0 0]\n"
     ]
    }
   ],
   "source": [
    "pred_clus = model.predict(df.values)\n",
    "\n",
    "print(pred_clus)\n"
   ]
  },
  {
   "cell_type": "code",
   "execution_count": 8,
   "metadata": {},
   "outputs": [
    {
     "data": {
      "text/plain": [
       "1    49\n",
       "0    49\n",
       "2     2\n",
       "Name: count, dtype: int64"
      ]
     },
     "execution_count": 8,
     "metadata": {},
     "output_type": "execute_result"
    }
   ],
   "source": [
    "pd.Series(pred_clus).value_counts()"
   ]
  },
  {
   "cell_type": "code",
   "execution_count": 9,
   "metadata": {},
   "outputs": [],
   "source": [
    "dExport = pd.DataFrame(pred_clus, columns=['cluster'])\n",
    "dExport.to_excel('cluster_output.xlsx', index=False)"
   ]
  },
  {
   "cell_type": "code",
   "execution_count": null,
   "metadata": {},
   "outputs": [],
   "source": []
  },
  {
   "cell_type": "code",
   "execution_count": null,
   "metadata": {},
   "outputs": [],
   "source": []
  }
 ],
 "metadata": {
  "kernelspec": {
   "display_name": "clustering",
   "language": "python",
   "name": "python3"
  },
  "language_info": {
   "codemirror_mode": {
    "name": "ipython",
    "version": 3
   },
   "file_extension": ".py",
   "mimetype": "text/x-python",
   "name": "python",
   "nbconvert_exporter": "python",
   "pygments_lexer": "ipython3",
   "version": "3.10.13"
  }
 },
 "nbformat": 4,
 "nbformat_minor": 2
}
